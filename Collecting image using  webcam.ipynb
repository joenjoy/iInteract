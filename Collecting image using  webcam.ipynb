{
 "cells": [
  {
   "cell_type": "code",
   "execution_count": null,
   "metadata": {
    "scrolled": true
   },
   "outputs": [],
   "source": [
    "import cv2\n",
    "\n",
    "cap=cv2.VideoCapture(0)\n",
    "id=1\n",
    "img_id=0\n",
    "\n",
    "\n",
    "while True:\n",
    "    ret,test_img=cap.read()\n",
    "    if not ret :\n",
    "        continue\n",
    "    img_id+=1    \n",
    "    file_name_path = \"data_video/Dd.\"+str(id)+\".\"+str(img_id)+\".jpg\"    \n",
    "    cv2.imwrite(file_name_path, test_img)     # save frame as JPG file\n",
    "    resized_img = cv2.resize(test_img, (1000, 700))\n",
    "    cv2.imshow('face detection Tutorial ',resized_img)\n",
    "    if cv2.waitKey(10) == ord('q') or int(img_id) ==200:#wait until 'q' key is pressed or count of 50\n",
    "        break\n",
    "\n",
    "\n",
    "cap.release()\n",
    "cv2.destroyAllWindows"
   ]
  },
  {
   "cell_type": "code",
   "execution_count": null,
   "metadata": {},
   "outputs": [],
   "source": []
  },
  {
   "cell_type": "code",
   "execution_count": null,
   "metadata": {},
   "outputs": [],
   "source": []
  }
 ],
 "metadata": {
  "kernelspec": {
   "display_name": "Python 3",
   "language": "python",
   "name": "python3"
  },
  "language_info": {
   "codemirror_mode": {
    "name": "ipython",
    "version": 3
   },
   "file_extension": ".py",
   "mimetype": "text/x-python",
   "name": "python",
   "nbconvert_exporter": "python",
   "pygments_lexer": "ipython3",
   "version": "3.8.5"
  }
 },
 "nbformat": 4,
 "nbformat_minor": 4
}
